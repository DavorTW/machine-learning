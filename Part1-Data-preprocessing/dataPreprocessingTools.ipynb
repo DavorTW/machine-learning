{
 "cells": [
  {
   "cell_type": "code",
   "execution_count": 70,
   "id": "ec0b6976-39a4-47dc-8f09-0852c0b98075",
   "metadata": {},
   "outputs": [],
   "source": [
    "#Importing the libraries\n",
    "import numpy as np\n",
    "import matplotlib.pyplot as plt\n",
    "import pandas as pd\n"
   ]
  },
  {
   "cell_type": "code",
   "execution_count": 71,
   "id": "6534cc76-835f-4a4c-a63e-812e2a5870b4",
   "metadata": {},
   "outputs": [],
   "source": [
    "#Importing the dataset\n",
    "#we first create a dataframe using pd.read_csv \n",
    "dataset = pd.read_csv('Data.csv') #we divide the dataset into a matrix of features and a vector of the dependent variable\n",
    "X = dataset.iloc[:,:-1].values #we use iloc for integer location based indexing, basically indexes to get our values\n",
    "y = dataset.iloc[:, -1].values \n"
   ]
  },
  {
   "cell_type": "code",
   "execution_count": 72,
   "id": "741f8bec-2290-4d17-b8dc-0a3c6abb6718",
   "metadata": {},
   "outputs": [
    {
     "name": "stdout",
     "output_type": "stream",
     "text": [
      "[['France' 44.0 72000.0]\n",
      " ['Spain' 27.0 48000.0]\n",
      " ['Germany' 30.0 54000.0]\n",
      " ['Spain' 38.0 61000.0]\n",
      " ['Germany' 40.0 nan]\n",
      " ['France' 35.0 58000.0]\n",
      " ['Spain' nan 52000.0]\n",
      " ['France' 48.0 79000.0]\n",
      " ['Germany' 50.0 83000.0]\n",
      " ['France' 37.0 67000.0]]\n"
     ]
    }
   ],
   "source": [
    "print(X)\n"
   ]
  },
  {
   "cell_type": "code",
   "execution_count": 73,
   "id": "35ed0a73-0bec-429f-8ceb-d19f239cfdf4",
   "metadata": {},
   "outputs": [
    {
     "name": "stdout",
     "output_type": "stream",
     "text": [
      "Country      0\n",
      "Age          1\n",
      "Salary       1\n",
      "Purchased    0\n",
      "dtype: int64\n"
     ]
    }
   ],
   "source": [
    "print(dataset.isna().sum())"
   ]
  },
  {
   "cell_type": "code",
   "execution_count": 74,
   "id": "3c31fb06-91d1-4c2a-8a87-cb40bf41dda2",
   "metadata": {},
   "outputs": [
    {
     "name": "stdout",
     "output_type": "stream",
     "text": [
      "['No' 'Yes' 'No' 'No' 'Yes' 'Yes' 'No' 'Yes' 'No' 'Yes']\n"
     ]
    }
   ],
   "source": [
    "print(y)\n"
   ]
  },
  {
   "cell_type": "code",
   "execution_count": 75,
   "id": "722ae928-5ceb-4535-8224-7d77e8b953e8",
   "metadata": {},
   "outputs": [],
   "source": [
    "#Taking care of missing data\n",
    "#Ways of handling missing data: Deleting the row containing it (ok if the amount of missing data is very small)\n",
    "#Using the average of the column of the missing data\n"
   ]
  },
  {
   "cell_type": "code",
   "execution_count": 76,
   "id": "a6274d6f-21f6-4856-ac71-2f71a0451f3d",
   "metadata": {},
   "outputs": [],
   "source": [
    "\n",
    "#we are going to use sci-kit learn to do the average making use of the SimpleImputer class\n",
    "from sklearn.impute import SimpleImputer\n",
    "#imputer = SimpleImputer() #we call the class to instantiate an object of it called imputer\n",
    "\n",
    "imputer = SimpleImputer(missing_values = np.nan, strategy = 'mean') #we call the class to create an object\n",
    "imputer.fit(X[:,1:3]) #we use fit() to learn from the data (apply the strategy)\n",
    "X[:,1:3] = imputer.transform(X[:,1:3]) #we use the transform method to tranform or input the missing data with the calculated values from fit\n"
   ]
  },
  {
   "cell_type": "code",
   "execution_count": 77,
   "id": "ad5d1d49-b185-4e1b-a885-e95775fa9d8b",
   "metadata": {},
   "outputs": [
    {
     "name": "stdout",
     "output_type": "stream",
     "text": [
      "[['France' 44.0 72000.0]\n",
      " ['Spain' 27.0 48000.0]\n",
      " ['Germany' 30.0 54000.0]\n",
      " ['Spain' 38.0 61000.0]\n",
      " ['Germany' 40.0 63777.77777777778]\n",
      " ['France' 35.0 58000.0]\n",
      " ['Spain' 38.77777777777778 52000.0]\n",
      " ['France' 48.0 79000.0]\n",
      " ['Germany' 50.0 83000.0]\n",
      " ['France' 37.0 67000.0]]\n"
     ]
    }
   ],
   "source": [
    "print(X)"
   ]
  },
  {
   "cell_type": "code",
   "execution_count": null,
   "id": "a6a77dc5-4bfa-4327-a296-37e5359735a4",
   "metadata": {},
   "outputs": [],
   "source": []
  }
 ],
 "metadata": {
  "kernelspec": {
   "display_name": "Python 3 (ipykernel)",
   "language": "python",
   "name": "python3"
  },
  "language_info": {
   "codemirror_mode": {
    "name": "ipython",
    "version": 3
   },
   "file_extension": ".py",
   "mimetype": "text/x-python",
   "name": "python",
   "nbconvert_exporter": "python",
   "pygments_lexer": "ipython3",
   "version": "3.12.7"
  }
 },
 "nbformat": 4,
 "nbformat_minor": 5
}
